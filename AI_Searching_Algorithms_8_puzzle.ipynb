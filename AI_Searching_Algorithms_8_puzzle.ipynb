{
  "nbformat": 4,
  "nbformat_minor": 0,
  "metadata": {
    "colab": {
      "name": "AI Searching Algorithms 8-puzzle.ipynb",
      "provenance": [],
      "collapsed_sections": [],
      "include_colab_link": true
    },
    "kernelspec": {
      "name": "python3",
      "display_name": "Python 3"
    },
    "language_info": {
      "name": "python"
    }
  },
  "cells": [
    {
      "cell_type": "markdown",
      "metadata": {
        "id": "view-in-github",
        "colab_type": "text"
      },
      "source": [
        "<a href=\"https://colab.research.google.com/github/farida752/8-Puzzle-game/blob/main/AI_Searching_Algorithms_8_puzzle.ipynb\" target=\"_parent\"><img src=\"https://colab.research.google.com/assets/colab-badge.svg\" alt=\"Open In Colab\"/></a>"
      ]
    },
    {
      "cell_type": "code",
      "metadata": {
        "id": "AxjO_ZKeyyRY"
      },
      "source": [
        "class State:\n",
        "  value = \"\"\n",
        "  zeroIndex = 0\n",
        "  zeroIndexI = 0\n",
        "  zeroIndexJ = 0\n",
        "  cost = 0\n",
        "  total_cost = 0\n",
        "\n",
        "  def __init__(self, value, zeroIndex):\n",
        "    self.value = value\n",
        "    self.zeroIndex = zeroIndex\n",
        "    self.zeroIndexI =  zeroIndex//3\n",
        "    self.zeroIndexJ =  zeroIndex-(self.zeroIndexI * 3)\n",
        "    \n",
        "  def __eq__(self, other):\n",
        "        if (isinstance(other, State)):\n",
        "            return self.total_cost == other.total_cost\n",
        "\n",
        "  def findElementIndex(self,indexI,indexJ):\n",
        "    return (indexI*3) + indexJ\n",
        "\n",
        "  def isGoalState(self,goal):\n",
        "    return self.value == goal.value"
      ],
      "execution_count": null,
      "outputs": []
    },
    {
      "cell_type": "code",
      "metadata": {
        "colab": {
          "base_uri": "https://localhost:8080/",
          "height": 84
        },
        "id": "nV8QDRKHmdRT",
        "outputId": "ffe0b31a-bf95-4e6a-b7f7-b0d1e63704df"
      },
      "source": [
        "#main\n",
        "#taking the initial state\n",
        "print(\"input\")\n",
        "value = input().replace(\",\", \"\")\n",
        "value = value.replace(\" \", \"\")\n",
        "zeroIndex = value.find('0')\n",
        "initialState = State(value,zeroIndex)\n",
        "#print(initialState.value + \" \"+ str(initialState.zeroIndex) + \" \"+ str(initialState.zeroIndexI) + \" \"+ str(initialState.zeroIndexJ)) \n",
        "#constructing the goal state\n",
        "goalState = State(\"012345678\",0)\n",
        "\n",
        "#to test\n",
        "\"\"\"newState = constructNextState(initialState, 'up')\n",
        "print(newState.value)\"\"\"\n",
        "\n",
        "#DFS call\n",
        "list = Dfs(initialState,goalState)\n",
        "# list = AStar(initialState,goalState, euclideanHeuristics)\n",
        "display(list[0])\n",
        "# display(list[1])\n",
        "# display(list[2])\n",
        "display(list[3])\n",
        "# display(list[4])\n",
        "# display(list[5])"
      ],
      "execution_count": 158,
      "outputs": [
        {
          "name": "stdout",
          "output_type": "stream",
          "text": [
            "input\n",
            "6,4,0,3,7,2,8,1,5\n"
          ]
        },
        {
          "output_type": "display_data",
          "data": {
            "text/plain": [
              "True"
            ]
          },
          "metadata": {}
        },
        {
          "output_type": "display_data",
          "data": {
            "text/plain": [
              "59389"
            ]
          },
          "metadata": {}
        }
      ]
    },
    {
      "cell_type": "code",
      "metadata": {
        "id": "vQsEHOaStsXo"
      },
      "source": [
        "def constructNextState (currentState , action ): \n",
        "  elementIndexI = currentState.zeroIndexI\n",
        "  elementIndexJ = currentState.zeroIndexJ\n",
        "  if action == 'up' and currentState.zeroIndexI != 0:\n",
        "    elementIndexI -= 1  \n",
        "  elif action == 'down' and currentState.zeroIndexI != 2:\n",
        "    elementIndexI +=1 \n",
        "  elif action == 'right' and currentState.zeroIndexJ != 2:\n",
        "    elementIndexJ +=1\n",
        "  elif action == 'left' and currentState.zeroIndexJ != 0:\n",
        "    elementIndexJ -=1\n",
        "  else:\n",
        "    return None\n",
        "\n",
        "  elementIndex = currentState.findElementIndex(elementIndexI ,elementIndexJ)\n",
        "  value = currentState.value\n",
        "  # string is immutable  value[currentState.zeroIndex] = value[elementIndex]\n",
        "  value = value[:currentState.zeroIndex] + value[elementIndex] + value[currentState.zeroIndex + 1:]\n",
        "  value = value[:elementIndex] + '0' + value[elementIndex + 1:]\n",
        "\n",
        "  newState = State(value , elementIndex)\n",
        "  return newState\n",
        "\n"
      ],
      "execution_count": null,
      "outputs": []
    },
    {
      "cell_type": "code",
      "metadata": {
        "id": "0_Eyqlch8Fr7"
      },
      "source": [
        "#DFS solving\n",
        "import time\n",
        "def Dfs (initialState,goalState):\n",
        "   frontierStack=[initialState]\n",
        "   parentSet= {initialState.value:initialState}\n",
        "   explored = []\n",
        "   maxDepth = 0\n",
        "   start_time = time.time()\n",
        "   while(len(frontierStack)!= 0):\n",
        "       state = frontierStack.pop()\n",
        "       if state.cost > maxDepth :\n",
        "         maxDepth = state.cost\n",
        "       explored.append(state.value)\n",
        "\n",
        "       if state.isGoalState(goalState):\n",
        "         timeOfExecution = (time.time() - start_time) * 1000\n",
        "         path=[]\n",
        "         costOfPath = state.cost\n",
        "         #starting from goal until the root of the path\n",
        "         while(state.value != initialState.value and state.cost != initialState.cost): \n",
        "           path.append(state.value)\n",
        "           state = parentSet[state.value]\n",
        "         path.append(state.value)\n",
        "         path.reverse()\n",
        "         return [True, explored, timeOfExecution, maxDepth + 1, path, costOfPath]\n",
        "\n",
        "      \n",
        "      #adding state childern up down right left\n",
        "       movements = ['up', 'down', 'right', 'left']\n",
        "       for move in movements:\n",
        "         newState = constructNextState(state,move)\n",
        "         if newState == None :\n",
        "           continue \n",
        "        #search if not in frontier or explored = not in parent set\n",
        "         if parentSet.get(newState.value) == None:\n",
        "           newState.cost = state.cost + 1\n",
        "           parentSet[newState.value] = state\n",
        "           frontierStack.append(newState)\n",
        "   timeOfExecution = (time.time() - start_time) * 1000\n",
        "   return [False, explored, timeOfExecution , maxDepth + 1]\n"
      ],
      "execution_count": 154,
      "outputs": []
    },
    {
      "cell_type": "code",
      "metadata": {
        "id": "kgIvIBdyEPnw"
      },
      "source": [
        "#A* Search:\n",
        "from queue import PriorityQueue\n",
        "def AStar (initialState, goalState, heuristicsFunction):\n",
        "  frontier = PriorityQueue()\n",
        "  initHeuristics = heuristicsFunction(initialState)                #heuristics in initial state\n",
        "  frontier.put((initHeuristics, initialState))                      #initialize priority queue\n",
        "  parentSet= {initialState.value:initialState}                      #parent set to track the parent of the state\n",
        "  costSet = {initialState.value:initHeuristics}                     #hashmap for mapping the cost to the state value, helps search with cost = theta(1)\n",
        "  explored = []   \n",
        "  maxDepth = 0                                                  #list for visited states\n",
        "  start_time = time.time()\n",
        "\n",
        "  while not frontier.empty():\n",
        "    theCost = frontier.queue[0][0]                                  #the cost of the min element in the priority queue\n",
        "    if theCost == costSet[frontier.queue[0][1].value]:              #if the cost of the min state equals the cost for the updated state, visit that state\n",
        "      state = frontier.get()[1]\n",
        "      if state.cost > maxDepth :\n",
        "        maxDepth = state.cost\n",
        "      explored.append(state.value)\n",
        "\n",
        "      if state.isGoalState(goalState):                              #check if the state is a goal state\n",
        "        timeOfExecution = (time.time() - start_time) * 1000\n",
        "        path=[]\n",
        "        costOfPath = state.cost                          #starting from goal until the root of the path\n",
        "        while(state.value != initialState.value and state.cost != initialState.cost): \n",
        "          path.append(state.value)                                        #track the path\n",
        "          state = parentSet[state.value]\n",
        "        path.append(state.value)\n",
        "        path.reverse()\n",
        "        return [True, explored, timeOfExecution, maxDepth + 1, path, costOfPath]\n",
        "      \n",
        "      for i in ['up', 'down', 'right', 'left']:\n",
        "        newState = constructNextState(state,i)\n",
        "        if newState != None:\n",
        "          newCost = state.cost + 1\n",
        "          newState.cost = newCost\n",
        "          totalCost = newCost + heuristicsFunction(newState)      #calculate the new cost\n",
        "\n",
        "          if parentSet.get(newState.value) == None:                #the state is not visited or in the priority queue\n",
        "            parentSet[newState.value] = state\n",
        "            frontier.put((totalCost,newState))\n",
        "            costSet[newState.value] = totalCost\n",
        "\n",
        "          elif costSet[newState.value] > totalCost:               #state has been put in the priority queue before and now has a lower cost\n",
        "            parentSet[newState.value] = state                     \n",
        "            frontier.put((totalCost,newState))                    # add to the queue again\n",
        "            costSet[newState.value] = totalCost                   #decrease key \n",
        "    else:\n",
        "\t    frontier.get()\n",
        "      \n",
        "  timeOfExecution = (time.time() - start_time) * 1000\n",
        "  return [False, explored, timeOfExecution, maxDepth + 1]"
      ],
      "execution_count": 153,
      "outputs": []
    },
    {
      "cell_type": "code",
      "metadata": {
        "id": "4__H9RISxO08"
      },
      "source": [
        "#Manhattan distance heuristics\n",
        "def manhattanHeuristics(currentState):\n",
        "  sum = 0\n",
        "  for ch in range(len(currentState.value)):\n",
        "    icurrent = ch // 3\n",
        "    jcurrent = ch - (icurrent * 3)\n",
        "    truePosition = int(currentState.value[ch])\n",
        "    i = truePosition // 3\n",
        "    j = truePosition - (i * 3)\n",
        "    distance = abs(icurrent - i) + abs(jcurrent - j)\n",
        "    sum = sum + distance\n",
        "  return sum\n",
        "    \n"
      ],
      "execution_count": null,
      "outputs": []
    },
    {
      "cell_type": "code",
      "metadata": {
        "id": "-45cobgZ4uep"
      },
      "source": [
        "#Euclidean distance heuristics\n",
        "import math \n",
        "def euclideanHeuristics(currentState):\n",
        "  sum = 0\n",
        "  for ch in range(len(currentState.value)):\n",
        "    icurrent = ch // 3\n",
        "    jcurrent = ch - (icurrent * 3)\n",
        "    truePosition = int(currentState.value[ch])\n",
        "    i = truePosition // 3\n",
        "    j = truePosition - (i * 3)\n",
        "    distance =math.sqrt(abs(icurrent - i)**2 + abs(jcurrent - j)**2)\n",
        "    sum = sum + distance\n",
        "  return sum"
      ],
      "execution_count": null,
      "outputs": []
    }
  ]
}