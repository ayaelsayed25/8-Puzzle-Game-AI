{
  "nbformat": 4,
  "nbformat_minor": 0,
  "metadata": {
    "colab": {
      "name": "AI Searching Algorithms 8-puzzle.ipynb",
      "provenance": [],
      "collapsed_sections": [],
      "include_colab_link": true
    },
    "kernelspec": {
      "name": "python3",
      "display_name": "Python 3"
    },
    "language_info": {
      "name": "python"
    }
  },
  "cells": [
    {
      "cell_type": "markdown",
      "metadata": {
        "id": "view-in-github",
        "colab_type": "text"
      },
      "source": [
        "<a href=\"https://colab.research.google.com/github/farida752/8-Puzzle-game/blob/main/AI_Searching_Algorithms_8_puzzle.ipynb\" target=\"_parent\"><img src=\"https://colab.research.google.com/assets/colab-badge.svg\" alt=\"Open In Colab\"/></a>"
      ]
    },
    {
      "cell_type": "code",
      "metadata": {
        "colab": {
          "base_uri": "https://localhost:8080/"
        },
        "id": "nV8QDRKHmdRT",
        "outputId": "4576db2f-d530-4a6e-b393-1b516909ecd8"
      },
      "source": [
        "print(\"input\")\n",
        "my_hexdata = input().replace(\",\", \"\")\n",
        "zero_index_i =  my_hexdata.find('0')//3\n",
        "zero_index_j =  my_hexdata.find('0')-(zero_index_i * 3)\n",
        "print(str(zero_index_i) + str( zero_index_j))\n",
        "\n",
        "scale = 16 ## equals to hexadecimal\n",
        "\n",
        "num_of_bits = 36\n",
        "\n",
        "initail_state = bin(int(my_hexdata, scale))[2:].zfill(num_of_bits)\n"
      ],
      "execution_count": null,
      "outputs": [
        {
          "output_type": "stream",
          "name": "stdout",
          "text": [
            "input\n",
            "1,2,3,4,5,0,6,7,8\n",
            "12\n"
          ]
        }
      ]
    },
    {
      "cell_type": "code",
      "metadata": {
        "id": "vQsEHOaStsXo"
      },
      "source": [
        "function constructNextState (state , action , zero_index_i , zero_index_j):\n",
        "  if action == 'up':\n",
        "    # temp \n"
      ],
      "execution_count": null,
      "outputs": []
    }
  ]
}